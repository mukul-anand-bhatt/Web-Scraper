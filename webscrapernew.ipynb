{
 "cells": [
  {
   "cell_type": "code",
   "execution_count": 1,
   "metadata": {},
   "outputs": [
    {
     "name": "stdout",
     "output_type": "stream",
     "text": [
      "<selenium.webdriver.remote.webelement.WebElement (session=\"03aa2a81426dff754b6a20e950c432a3\", element=\"f.747EF0DA66EC258BE5A46CCAF53FB38B.d.8045CD65EB508F231007D4DD5CA04772.e.86\")>\n",
      "<selenium.webdriver.remote.webelement.WebElement (session=\"03aa2a81426dff754b6a20e950c432a3\", element=\"f.747EF0DA66EC258BE5A46CCAF53FB38B.d.8045CD65EB508F231007D4DD5CA04772.e.86\")>\n",
      "<selenium.webdriver.remote.webelement.WebElement (session=\"03aa2a81426dff754b6a20e950c432a3\", element=\"f.747EF0DA66EC258BE5A46CCAF53FB38B.d.8045CD65EB508F231007D4DD5CA04772.e.86\")>\n",
      "<selenium.webdriver.remote.webelement.WebElement (session=\"03aa2a81426dff754b6a20e950c432a3\", element=\"f.747EF0DA66EC258BE5A46CCAF53FB38B.d.8045CD65EB508F231007D4DD5CA04772.e.86\")>\n",
      "<selenium.webdriver.remote.webelement.WebElement (session=\"03aa2a81426dff754b6a20e950c432a3\", element=\"f.747EF0DA66EC258BE5A46CCAF53FB38B.d.8045CD65EB508F231007D4DD5CA04772.e.86\")>\n",
      "<selenium.webdriver.remote.webelement.WebElement (session=\"03aa2a81426dff754b6a20e950c432a3\", element=\"f.747EF0DA66EC258BE5A46CCAF53FB38B.d.8045CD65EB508F231007D4DD5CA04772.e.86\")>\n",
      "https://www.hermanmiller.com/en_in/resources/3d-models-and-planning-tools/product-models/individual/zeph-chair-with-arms/\n",
      "https://www.hermanmiller.com/en_in/resources/3d-models-and-planning-tools/product-models/individual/aeron-chair-b-size-fully-adjustable-arms/\n"
     ]
    },
    {
     "ename": "IndexError",
     "evalue": "list index out of range",
     "output_type": "error",
     "traceback": [
      "\u001b[1;31m---------------------------------------------------------------------------\u001b[0m",
      "\u001b[1;31mIndexError\u001b[0m                                Traceback (most recent call last)",
      "Cell \u001b[1;32mIn[1], line 42\u001b[0m\n\u001b[0;32m     40\u001b[0m driver1 \u001b[38;5;241m=\u001b[39m webdriver\u001b[38;5;241m.\u001b[39mChrome()\n\u001b[0;32m     41\u001b[0m driver1\u001b[38;5;241m.\u001b[39mget(link)\n\u001b[1;32m---> 42\u001b[0m name \u001b[38;5;241m=\u001b[39m \u001b[43mdriver1\u001b[49m\u001b[38;5;241;43m.\u001b[39;49m\u001b[43mfind_elements\u001b[49m\u001b[43m(\u001b[49m\u001b[43mBy\u001b[49m\u001b[38;5;241;43m.\u001b[39;49m\u001b[43mCLASS_NAME\u001b[49m\u001b[43m,\u001b[49m\u001b[43m \u001b[49m\u001b[38;5;124;43m\"\u001b[39;49m\u001b[38;5;124;43mitemDetails-product-name\u001b[39;49m\u001b[38;5;124;43m\"\u001b[39;49m\u001b[43m)\u001b[49m\u001b[43m[\u001b[49m\u001b[38;5;241;43m1\u001b[39;49m\u001b[43m]\u001b[49m\u001b[38;5;241m.\u001b[39mtext\n\u001b[0;32m     43\u001b[0m plants \u001b[38;5;241m=\u001b[39m driver1\u001b[38;5;241m.\u001b[39mfind_elements(By\u001b[38;5;241m.\u001b[39mCLASS_NAME, \u001b[38;5;124m\"\u001b[39m\u001b[38;5;124mitemDetails-details-section\u001b[39m\u001b[38;5;124m\"\u001b[39m)\n\u001b[0;32m     44\u001b[0m s \u001b[38;5;241m=\u001b[39m plants[\u001b[38;5;241m1\u001b[39m]\u001b[38;5;241m.\u001b[39mtext\u001b[38;5;241m.\u001b[39msplitlines()\n",
      "\u001b[1;31mIndexError\u001b[0m: list index out of range"
     ]
    }
   ],
   "source": [
    "from selenium import webdriver\n",
    "from selenium.webdriver.common.by import By\n",
    "from selenium.common.exceptions import StaleElementReferenceException, NoSuchElementException\n",
    "import csv\n",
    "import time\n",
    "\n",
    "# Set up the webdriver\n",
    "driver = webdriver.Chrome()\n",
    "driver.get(\"https://www.hermanmiller.com/en_in/resources/3d-models-and-planning-tools/product-models/?pc=office-chairs&pc=side-chairs\")\n",
    "\n",
    "# Open CSV file in write mode\n",
    "with open('product_info.csv', 'w', newline='', encoding='utf-8') as csvfile:\n",
    "    fieldnames = ['Product Name', 'Height', 'Width', 'Depth', 'Seat Depth', 'Seat Height', 'Arm Height', 'Product URL']\n",
    "    writer = csv.DictWriter(csvfile, fieldnames=fieldnames)\n",
    "    writer.writeheader()\n",
    "\n",
    "while True:\n",
    "    try:\n",
    "        load_more = driver.find_element(By.CLASS_NAME,\"grid-load-more-button\")\n",
    "    except NoSuchElementException:\n",
    "        break\n",
    "    print(load_more)\n",
    "    if load_more!=None:\n",
    "        load_more.click()\n",
    "    else:\n",
    "        break\n",
    "    time.sleep(4)\n",
    "\n",
    "plants = driver.find_elements(By.TAG_NAME, \"a\")\n",
    "count = 0\n",
    "# link_count = 0\n",
    "for i in plants:\n",
    "    count+=1\n",
    "    link = i.get_attribute(\"href\")\n",
    "    if link==None: continue\n",
    "    if count%2!=0:\n",
    "        continue\n",
    "    if \"https://www.hermanmiller.com/en_in/resources/3d-models-and-planning-tools/product-models/individual/\" in link:\n",
    "        print(link)\n",
    "        driver1 = webdriver.Chrome()\n",
    "        driver1.get(link)\n",
    "        name = driver1.find_elements(By.CLASS_NAME, \"itemDetails-product-name\")[1].text\n",
    "        plants = driver1.find_elements(By.CLASS_NAME, \"itemDetails-details-section\")\n",
    "        s = plants[1].text.splitlines()\n",
    "        # for i in s[1:]:\n",
    "        try:\n",
    "            height = s[0].split(\" \")[-1]\n",
    "        except IndexError:\n",
    "            height = \"none\"\n",
    "        try:\n",
    "            width = s[1].split(\" \")[-1]\n",
    "        except IndexError:\n",
    "            width = \"none\"\n",
    "        try:\n",
    "            depth = s[2].split(\" \")[-1]\n",
    "        except IndexError:\n",
    "            depth = \"none\"\n",
    "        try:\n",
    "            seat_depth = s[3].split(\" \")[-1]\n",
    "        except IndexError:\n",
    "            seat_depth = \"none\"\n",
    "        try:\n",
    "            seat_height = s[4].split(\" \")[-1]\n",
    "        except IndexError:\n",
    "            seat_height = \"none\"\n",
    "        try:\n",
    "            arm_height = s[5].split(\" \")[-1]\n",
    "        except IndexError:\n",
    "            arm_height = \"none\"\n",
    "        with open(\"data.csv\", \"a\", encoding=\"utf-8\") as file: file.write(f\"{name},{height},{width},{depth},{seat_depth},{seat_height},{arm_height}\\n\")\n",
    "        driver1.quit()\n",
    "        # link_count+=1\n",
    "\n",
    "driver.quit()"
   ]
  }
 ],
 "metadata": {
  "kernelspec": {
   "display_name": ".venv",
   "language": "python",
   "name": "python3"
  },
  "language_info": {
   "codemirror_mode": {
    "name": "ipython",
    "version": 3
   },
   "file_extension": ".py",
   "mimetype": "text/x-python",
   "name": "python",
   "nbconvert_exporter": "python",
   "pygments_lexer": "ipython3",
   "version": "3.12.2"
  }
 },
 "nbformat": 4,
 "nbformat_minor": 2
}
